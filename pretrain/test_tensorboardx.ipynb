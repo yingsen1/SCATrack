{
 "cells": [
  {
   "cell_type": "code",
   "execution_count": 1,
   "metadata": {},
   "outputs": [],
   "source": [
    "import torch\n",
    "import torchvision.utils as vutils\n",
    "import numpy as np\n",
    "import torchvision.models as models\n",
    "from torchvision import datasets\n",
    "from tensorboardX import SummaryWriter\n",
    "import os\n",
    "import sys\n",
    "import pickle\n",
    "import json\n",
    "\n",
    "from data_prov import *\n",
    "from model import *\n",
    "from options import *\n",
    "\n"
   ]
  },
  {
   "cell_type": "code",
   "execution_count": 2,
   "metadata": {},
   "outputs": [],
   "source": [
    "img_home = '../../tracking_benchmark/dataset/'\n",
    "data_path = 'data/vot-otb.pkl'\n",
    "VID_data_path = 'data/ilsvrc_train_500.json'\n",
    "VID_home = '../../tracking_benchmark/ILSVRC2015/Data/VID/train/'"
   ]
  },
  {
   "cell_type": "code",
   "execution_count": 3,
   "metadata": {},
   "outputs": [],
   "source": [
    "writer = SummaryWriter()"
   ]
  },
  {
   "cell_type": "code",
   "execution_count": 4,
   "metadata": {},
   "outputs": [],
   "source": [
    "    with open(VID_data_path, 'r') as f:\n",
    "        data = json.load(f)\n",
    "\n",
    "    K = len(data)\n",
    "    dataset = [None]*K\n",
    "    for k, seq in enumerate(iter(data)):\n",
    "        seq_name = seq['seq_name']\n",
    "        start_frame = seq['start_frame']\n",
    "        end_frame = seq['end_frame']\n",
    "        gt = np.array(seq['gt'])\n",
    "        im_width = seq['im_width']\n",
    "        im_height = seq['im_height']\n",
    "        img_dir = os.path.join(VID_home, seq_name)\n",
    "        dataset[k] = ILSVRC2015RegionDataset(img_dir, start_frame, end_frame, gt, im_width, im_height, opts)\n",
    "\n"
   ]
  },
  {
   "cell_type": "code",
   "execution_count": 5,
   "metadata": {},
   "outputs": [
    {
     "name": "stdout",
     "output_type": "stream",
     "text": [
      "../models/pymdnet-vot-attmask2-conv1&se3&loss3-1024.pth\n",
      "500\n"
     ]
    }
   ],
   "source": [
    "opts['init_model_path'] = '../models/pymdnet-vot-attmask2-conv1&se3&loss3-1024.pth'\n",
    "print(opts['init_model_path'])\n",
    "print(K)"
   ]
  },
  {
   "cell_type": "code",
   "execution_count": 6,
   "metadata": {},
   "outputs": [
    {
     "name": "stdout",
     "output_type": "stream",
     "text": [
      "conv3_se_weight have already in param, so plus _2\n",
      "conv3_se_bias have already in param, so plus _2\n"
     ]
    }
   ],
   "source": [
    "model = MDNet(opts['init_model_path'], K)\n",
    "model = model.cuda()\n",
    "model = model.eval()"
   ]
  },
  {
   "cell_type": "code",
   "execution_count": 7,
   "metadata": {},
   "outputs": [
    {
     "data": {
      "text/plain": [
       "[[1],\n",
       " [1],\n",
       " [1],\n",
       " [1],\n",
       " [1],\n",
       " [1],\n",
       " [1],\n",
       " [1],\n",
       " [1],\n",
       " [1],\n",
       " [1],\n",
       " [1],\n",
       " [1],\n",
       " [1],\n",
       " [1],\n",
       " [1],\n",
       " [1],\n",
       " [1],\n",
       " [1],\n",
       " [1],\n",
       " [1],\n",
       " [1],\n",
       " [1],\n",
       " [1],\n",
       " [1],\n",
       " [1],\n",
       " [1],\n",
       " [1],\n",
       " [1],\n",
       " [1],\n",
       " [1],\n",
       " [1],\n",
       " [0],\n",
       " [0],\n",
       " [0],\n",
       " [0],\n",
       " [0],\n",
       " [0],\n",
       " [0],\n",
       " [0],\n",
       " [0],\n",
       " [0],\n",
       " [0],\n",
       " [0],\n",
       " [0],\n",
       " [0],\n",
       " [0],\n",
       " [0],\n",
       " [0],\n",
       " [0],\n",
       " [0],\n",
       " [0],\n",
       " [0],\n",
       " [0],\n",
       " [0],\n",
       " [0],\n",
       " [0],\n",
       " [0],\n",
       " [0],\n",
       " [0],\n",
       " [0],\n",
       " [0],\n",
       " [0],\n",
       " [0],\n",
       " [0],\n",
       " [0],\n",
       " [0],\n",
       " [0],\n",
       " [0],\n",
       " [0],\n",
       " [0],\n",
       " [0],\n",
       " [0],\n",
       " [0],\n",
       " [0],\n",
       " [0],\n",
       " [0],\n",
       " [0],\n",
       " [0],\n",
       " [0],\n",
       " [0],\n",
       " [0],\n",
       " [0],\n",
       " [0],\n",
       " [0],\n",
       " [0],\n",
       " [0],\n",
       " [0],\n",
       " [0],\n",
       " [0],\n",
       " [0],\n",
       " [0],\n",
       " [0],\n",
       " [0],\n",
       " [0],\n",
       " [0],\n",
       " [0],\n",
       " [0],\n",
       " [0],\n",
       " [0],\n",
       " [0],\n",
       " [0],\n",
       " [0],\n",
       " [0],\n",
       " [0],\n",
       " [0],\n",
       " [0],\n",
       " [0],\n",
       " [0],\n",
       " [0],\n",
       " [0],\n",
       " [0],\n",
       " [0],\n",
       " [0],\n",
       " [0],\n",
       " [0],\n",
       " [0],\n",
       " [0],\n",
       " [0],\n",
       " [0],\n",
       " [0],\n",
       " [0],\n",
       " [0],\n",
       " [0],\n",
       " [0],\n",
       " [0],\n",
       " [0],\n",
       " [0],\n",
       " [2],\n",
       " [2],\n",
       " [2],\n",
       " [2],\n",
       " [2],\n",
       " [2],\n",
       " [2],\n",
       " [2],\n",
       " [2],\n",
       " [2],\n",
       " [2],\n",
       " [2],\n",
       " [2],\n",
       " [2],\n",
       " [2],\n",
       " [2],\n",
       " [2],\n",
       " [2],\n",
       " [2],\n",
       " [2],\n",
       " [2],\n",
       " [2],\n",
       " [2],\n",
       " [2],\n",
       " [2],\n",
       " [2],\n",
       " [2],\n",
       " [2],\n",
       " [2],\n",
       " [2],\n",
       " [2],\n",
       " [2]]"
      ]
     },
     "execution_count": 7,
     "metadata": {},
     "output_type": "execute_result"
    }
   ],
   "source": [
    "label = torch.IntTensor(160, 1)\n",
    "label[:32] = 1\n",
    "label[32:128] = 0\n",
    "label[128:]=2\n",
    "label.tolist()"
   ]
  },
  {
   "cell_type": "code",
   "execution_count": 8,
   "metadata": {},
   "outputs": [
    {
     "name": "stdout",
     "output_type": "stream",
     "text": [
      "torch.Size([128, 512])\n",
      "torch.Size([160, 512])\n"
     ]
    }
   ],
   "source": [
    "\n",
    "## for 1\n",
    "\n",
    "k = 0\n",
    "pos_regions, neg_regions = dataset[k].next()\n",
    "pos_regions = Variable(pos_regions)\n",
    "neg_regions = Variable(neg_regions)\n",
    "\n",
    "pos_regions = pos_regions.cuda()\n",
    "neg_regions = neg_regions.cuda()\n",
    "\n",
    "p_features = model(pos_regions, k, out_layer='fc5')\n",
    "n_features = model(neg_regions, k, out_layer='fc5')\n",
    "total_features = torch.cat((p_features, n_features), 0)\n",
    "print(total_features.size())\n",
    "\n",
    "## for 2\n",
    "k = 10\n",
    "pos_regions, neg_regions = dataset[k].next()\n",
    "pos_regions = Variable(pos_regions)\n",
    "neg_regions = Variable(neg_regions)\n",
    "\n",
    "pos_regions = pos_regions.cuda()\n",
    "neg_regions = neg_regions.cuda()\n",
    "\n",
    "p_features = model(pos_regions, k, out_layer='fc5')\n",
    "total_features = torch.cat((total_features, p_features), 0)\n",
    "print(total_features.size())\n"
   ]
  },
  {
   "cell_type": "code",
   "execution_count": 9,
   "metadata": {},
   "outputs": [],
   "source": [
    "writer.add_embedding(total_features.data.cpu(), metadata=label)\n",
    "writer.export_scalars_to_json('./all_scalars.json')\n",
    "writer.close()"
   ]
  },
  {
   "cell_type": "code",
   "execution_count": null,
   "metadata": {},
   "outputs": [],
   "source": []
  }
 ],
 "metadata": {
  "kernelspec": {
   "display_name": "Python 2",
   "language": "python",
   "name": "python2"
  },
  "language_info": {
   "codemirror_mode": {
    "name": "ipython",
    "version": 2
   },
   "file_extension": ".py",
   "mimetype": "text/x-python",
   "name": "python",
   "nbconvert_exporter": "python",
   "pygments_lexer": "ipython2",
   "version": "2.7.14"
  }
 },
 "nbformat": 4,
 "nbformat_minor": 2
}
